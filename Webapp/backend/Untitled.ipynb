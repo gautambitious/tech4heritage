{
 "cells": [
  {
   "cell_type": "code",
   "execution_count": 23,
   "metadata": {},
   "outputs": [],
   "source": [
    "with open('./data/index.txt', 'r') as f:\n",
    "    index = int(f.read())\n",
    "shutil.copy('./temp/input.png', './data/inputs/{}.png'.format(index))\n",
    "shutil.copy('./temp/temp_mask.jpg', './data/masks/{}.jpg'.format(index))\n",
    "shutil.copy('./temp/restored.png', './data/outputs/{}.png'.format(index))\n",
    "shutil.copy('./temp/patched.png', './data/patches/{}.png'.format(index))\n",
    "with open('./data/index.txt', 'w') as f:\n",
    "    f.write(str(index+1))"
   ]
  },
  {
   "cell_type": "code",
   "execution_count": 18,
   "metadata": {},
   "outputs": [],
   "source": [
    "import shutil"
   ]
  },
  {
   "cell_type": "code",
   "execution_count": null,
   "metadata": {},
   "outputs": [],
   "source": []
  }
 ],
 "metadata": {
  "kernelspec": {
   "display_name": "Python 3",
   "language": "python",
   "name": "python3"
  },
  "language_info": {
   "codemirror_mode": {
    "name": "ipython",
    "version": 3
   },
   "file_extension": ".py",
   "mimetype": "text/x-python",
   "name": "python",
   "nbconvert_exporter": "python",
   "pygments_lexer": "ipython3",
   "version": "3.7.6"
  }
 },
 "nbformat": 4,
 "nbformat_minor": 4
}
